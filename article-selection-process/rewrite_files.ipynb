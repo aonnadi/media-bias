{
 "cells": [
  {
   "cell_type": "code",
   "execution_count": null,
   "metadata": {},
   "outputs": [],
   "source": [
    "import csv \n",
    "\n",
    "file_path = 'wgbh_articles_clean.csv' \n",
    "\n",
    "# Opening the csv file in read mode\n",
    "with open(file_path, 'r') as csvfile:\n",
    "    reader = csv.reader(csvfile)  # Creating a csv reader object\n",
    "    rows = list(reader)  # Converting the reader object to a list of rows\n",
    "\n",
    "    # Iterating over each row in the csv file\n",
    "    for row in rows:\n",
    "        # Replace the first column with the last column\n",
    "        row[0] = row[-1]\n",
    "        # Remove the last column\n",
    "        row.pop(-1)\n",
    "\n",
    "# Opening the csv file in write mode\n",
    "with open(file_path, 'w', newline='') as csvfile:\n",
    "    writer = csv.writer(csvfile)  # Creating a csv writer object\n",
    "    writer.writerows(rows)  # Writing the modified rows back to the csv file"
   ]
  }
 ],
 "metadata": {
  "kernelspec": {
   "display_name": "Python 3",
   "language": "python",
   "name": "python3"
  },
  "language_info": {
   "codemirror_mode": {
    "name": "ipython",
    "version": 3
   },
   "file_extension": ".py",
   "mimetype": "text/x-python",
   "name": "python",
   "nbconvert_exporter": "python",
   "pygments_lexer": "ipython3",
   "version": "3.11.6"
  }
 },
 "nbformat": 4,
 "nbformat_minor": 2
}
