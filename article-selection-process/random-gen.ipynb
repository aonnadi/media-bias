{
 "cells": [
  {
   "cell_type": "code",
   "execution_count": 14,
   "metadata": {},
   "outputs": [],
   "source": [
    "import pandas as pd\n",
    "import random\n",
    "\n",
    "# Load your original CSV into a DataFrame\n",
    "# original_df = pd.read_csv('wgbh_articles_clean.csv')\n",
    "original_df = pd.read_csv('0019cde4-f240-4706-b708-ecbc39bdfa00.csv')\n",
    "\n",
    "\n",
    "# Shuffle the DataFrame randomly\n",
    "shuffled_df = original_df.sample(frac=1, random_state=42)\n",
    "\n",
    "# Calculate the number of rows for the new CSV (70% of the total)\n",
    "# do a random number generator to get a random files off disk\n",
    "percentage = 0.80\n",
    "rows_for_new_csv = int(len(shuffled_df) * percentage)\n",
    "\n",
    "# Take the first 70% of the shuffled DataFrame for the new CSV\n",
    "new_csv_df = shuffled_df.head(rows_for_new_csv)\n",
    "\n",
    "# Save the new DataFrame to a new CSV file\n",
    "new_csv_df.to_csv('tbh_random_8_percent.csv', index=False)\n"
   ]
  },
  {
   "cell_type": "code",
   "execution_count": 3,
   "metadata": {},
   "outputs": [
    {
     "name": "stderr",
     "output_type": "stream",
     "text": [
      "/var/folders/4b/q908w1jj7t3cj1_x7w3kmpg80000gn/T/ipykernel_6159/1977842787.py:8: DtypeWarning: Columns (17) have mixed types. Specify dtype option on import or set low_memory=False.\n",
      "  df = pd.read_csv(csv_file_path)\n"
     ]
    },
    {
     "name": "stdout",
     "output_type": "stream",
     "text": [
      "Selected articles saved to: tbg_selected_articles_pt2.csv\n"
     ]
    }
   ],
   "source": [
    "import pandas as pd\n",
    "import random\n",
    "\n",
    "# Replace 'your_file.csv' with the actual path to your CSV file\n",
    "csv_file_path = 'TBG_unique_raw.csv'\n",
    "\n",
    "# Load the CSV file into a pandas DataFrame\n",
    "df = pd.read_csv(csv_file_path)\n",
    "\n",
    "# Set the seed for reproducibility\n",
    "seed_value = 42\n",
    "random.seed(seed_value)\n",
    "\n",
    "# Get the total number of rows in the DataFrame\n",
    "total_rows = len(df)\n",
    "\n",
    "# Set the number of articles you want to pick\n",
    "num_articles_to_pick = 100\n",
    "\n",
    "# Randomly select 200 row indices\n",
    "random_indices = random.sample(range(total_rows), num_articles_to_pick)\n",
    "\n",
    "# Use the selected indices to get the corresponding rows from the DataFrame\n",
    "df_sample = df.iloc[random_indices]\n",
    "\n",
    "# Replace 'selected_articles.csv' with the desired name for your new CSV file\n",
    "output_csv_path = 'tbg_selected_articles_pt2.csv'\n",
    "\n",
    "# Save the selected articles to a new CSV file\n",
    "df_sample.to_csv(output_csv_path, index=False)\n",
    "\n",
    "# Display the randomly selected DataFrame\n",
    "print(f\"Selected articles saved to: {output_csv_path}\")\n"
   ]
  }
 ],
 "metadata": {
  "kernelspec": {
   "display_name": "Python 3",
   "language": "python",
   "name": "python3"
  },
  "language_info": {
   "codemirror_mode": {
    "name": "ipython",
    "version": 3
   },
   "file_extension": ".py",
   "mimetype": "text/x-python",
   "name": "python",
   "nbconvert_exporter": "python",
   "pygments_lexer": "ipython3",
   "version": "3.11.6"
  }
 },
 "nbformat": 4,
 "nbformat_minor": 2
}
