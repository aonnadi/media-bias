{
 "cells": [
  {
   "cell_type": "code",
   "execution_count": 6,
   "metadata": {},
   "outputs": [
    {
     "name": "stderr",
     "output_type": "stream",
     "text": [
      "UsageError: Line magic function `%pip3` not found.\n"
     ]
    }
   ],
   "source": [
    "%pip install python-docx"
   ]
  },
  {
   "cell_type": "code",
   "execution_count": 14,
   "metadata": {},
   "outputs": [
    {
     "name": "stdout",
     "output_type": "stream",
     "text": [
      "Word documents created successfully!\n"
     ]
    }
   ],
   "source": [
    "import pandas as pd\n",
    "from docx import Document\n",
    "# from docx import Document\n",
    "\n",
    "# Create a Word document with the given row data.\n",
    "def create_word_document(row, output_file):\n",
    "    document = Document()\n",
    "    \n",
    "    for column_name, cell_value in zip(row.index, row):\n",
    "        document.add_paragraph(f\"{cell_value}\")\n",
    "\n",
    "    document.save(output_file)\n",
    "\n",
    "#Convert a CSV file to multiple Word documents.\n",
    "def csv_to_word(input_csv, output_folder, columns_to_include):\n",
    "    df = pd.read_csv(input_csv)\n",
    "\n",
    "    for index, row in df[columns_to_include].iterrows():\n",
    "        output_file = f\"{output_folder}/{row['hl1']}_{row['hl2']}.docx\"\n",
    "        create_word_document(row, output_file)\n",
    "\n",
    "if __name__ == \"__main__\":\n",
    "    input_csv_file = \"tbg_selected_no_dupes_new_2.csv\" \n",
    "    output_folder_path = \"/Users/aninja/Desktop/khc/research/word_doc\" \n",
    "    columns_to_include = [\"lede\", \"body\", \"hl1\", \"hl2\"]  \n",
    "\n",
    "    csv_to_word(input_csv_file, output_folder_path, columns_to_include)\n",
    "    print(\"Word documents created successfully!\")\n"
   ]
  },
  {
   "cell_type": "code",
   "execution_count": 16,
   "metadata": {},
   "outputs": [
    {
     "name": "stdout",
     "output_type": "stream",
     "text": [
      "Word documents created successfully!\n"
     ]
    }
   ],
   "source": [
    "import pandas as pd\n",
    "from docx import Document\n",
    "\n",
    "# Create a Word document with the given row data.\n",
    "def create_word_document(row, output_folder):\n",
    "    document = Document()\n",
    "    \n",
    "    # Add only 'lede' and 'body' to the document\n",
    "    document.add_paragraph(f\"{row['lede']}\")\n",
    "    document.add_paragraph(f\"{row['body']}\")\n",
    "\n",
    "    document.save(output_folder)\n",
    "\n",
    "#Convert a CSV file to multiple Word documents.\n",
    "def csv_to_word(input_csv, output_folder, columns_to_include):\n",
    "    df = pd.read_csv(input_csv)\n",
    "\n",
    "    for index, row in df[columns_to_include].iterrows():\n",
    "        # Check if 'hl1' and 'hl2' are not empty before constructing the output file name\n",
    "        hl1_value = str(row['hl1']) if pd.notna(row['hl1']) else ''\n",
    "        hl2_value = str(row['hl2']) if pd.notna(row['hl2']) else ''\n",
    "\n",
    "        # Use values from \"hl1\" and \"hl2\" for the output file name if they are not empty\n",
    "        if hl1_value and hl2_value:\n",
    "            output_file = f\"{output_folder}/{hl1_value}_{hl2_value}.docx\"\n",
    "        elif hl1_value:\n",
    "            output_file = f\"{output_folder}/{hl1_value}.docx\"\n",
    "        elif hl2_value:\n",
    "            output_file = f\"{output_folder}/{hl2_value}.docx\"\n",
    "\n",
    "        create_word_document(row, output_file)\n",
    "\n",
    "if __name__ == \"__main__\":\n",
    "    input_csv_file = \"tbg_selected_no_dupes_csv_3.csv\" \n",
    "    output_folder_path = \"/Users/aninja/Desktop/khc/research/word_doc\" \n",
    "    columns_to_include = [\"lede\", \"body\", \"hl1\", \"hl2\"]  \n",
    "\n",
    "    csv_to_word(input_csv_file, output_folder_path, columns_to_include)\n",
    "    print(\"Word documents created successfully!\")\n"
   ]
  }
 ],
 "metadata": {
  "kernelspec": {
   "display_name": "Python 3",
   "language": "python",
   "name": "python3"
  },
  "language_info": {
   "codemirror_mode": {
    "name": "ipython",
    "version": 3
   },
   "file_extension": ".py",
   "mimetype": "text/x-python",
   "name": "python",
   "nbconvert_exporter": "python",
   "pygments_lexer": "ipython3",
   "version": "3.11.6"
  }
 },
 "nbformat": 4,
 "nbformat_minor": 2
}
