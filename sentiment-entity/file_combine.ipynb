{
 "cells": [
  {
   "cell_type": "code",
   "execution_count": 1,
   "metadata": {},
   "outputs": [],
   "source": [
    "import pandas as pd\n",
    "\n",
    "# Read the sentiment analysis CSV file\n",
    "sentiment_df = pd.read_csv('sentiment_results.csv')\n",
    "\n",
    "# Read the entity sentiment analysis CSV file\n",
    "entity_sentiment_df = pd.read_csv('entity_sentiment_results.csv')\n"
   ]
  },
  {
   "cell_type": "code",
   "execution_count": 2,
   "metadata": {},
   "outputs": [],
   "source": [
    "# Assuming \"Article Number\" is a common identifier\n",
    "combined_df = pd.merge(sentiment_df, entity_sentiment_df, on='Article Number', how='inner')\n",
    "# Assuming you have a DataFrame named combined_df\n",
    "combined_df.drop(['Article Title_x', 'Article Title_y'], axis=1, inplace=True)\n",
    "\n"
   ]
  },
  {
   "cell_type": "code",
   "execution_count": 3,
   "metadata": {},
   "outputs": [],
   "source": [
    "combined_df.to_csv('combined_results.csv', index=False)\n"
   ]
  }
 ],
 "metadata": {
  "kernelspec": {
   "display_name": "Python 3",
   "language": "python",
   "name": "python3"
  },
  "language_info": {
   "codemirror_mode": {
    "name": "ipython",
    "version": 3
   },
   "file_extension": ".py",
   "mimetype": "text/x-python",
   "name": "python",
   "nbconvert_exporter": "python",
   "pygments_lexer": "ipython3",
   "version": "3.11.6"
  }
 },
 "nbformat": 4,
 "nbformat_minor": 2
}
