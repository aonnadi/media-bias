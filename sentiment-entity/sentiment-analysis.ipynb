{
 "cells": [
  {
   "cell_type": "code",
   "execution_count": 1,
   "metadata": {},
   "outputs": [],
   "source": [
    "import csv\n",
    "import json\n",
    "import requests\n"
   ]
  },
  {
   "cell_type": "code",
   "execution_count": 2,
   "metadata": {},
   "outputs": [
    {
     "name": "stdout",
     "output_type": "stream",
     "text": [
      "Sentiment results saved to sentiment_results.csv\n"
     ]
    }
   ],
   "source": [
    "def analyze_sentiment(articles):\n",
    "    api_endpoint = \"https://language.googleapis.com/v1/documents:analyzeSentiment\"\n",
    "    api_key = \"\"  # Replace with your actual API key\n",
    "    \n",
    "    sentiment_results = []  # List to store sentiment analysis results\n",
    "    \n",
    "    for idx, article in enumerate(articles, start=1):\n",
    "        text_content = article[\"Text Content\"]\n",
    "        article_title = article[\"Article Title\"]\n",
    "        \n",
    "        # Create the request payload for each article\n",
    "        data = {\n",
    "            \"document\": {\n",
    "                \"type\": \"PLAIN_TEXT\",\n",
    "                \"content\": text_content\n",
    "            },\n",
    "            \"encodingType\": \"UTF8\"\n",
    "        }\n",
    "        \n",
    "        params = {\n",
    "            \"key\": api_key\n",
    "        }\n",
    "        \n",
    "        headers = {\n",
    "            \"Content-Type\": \"application/json\"\n",
    "        }\n",
    "        \n",
    "        # Send the HTTP POST request for each article\n",
    "        response = requests.post(api_endpoint, params=params, headers=headers, data=json.dumps(data))\n",
    "        \n",
    "        if response.status_code == 200:\n",
    "            sentiment_data = response.json()\n",
    "            # Get overall sentiment of the input article\n",
    "            document_sentiment = sentiment_data[\"documentSentiment\"]\n",
    "            document_result = {\n",
    "                \"Article Number\": idx,\n",
    "                \"Article Title\": article_title,\n",
    "                \"Sentiment Type\": \"Document\",\n",
    "                \"Sentiment Score\": document_sentiment[\"score\"],\n",
    "                \"Sentiment Magnitude\": document_sentiment[\"magnitude\"]\n",
    "            }\n",
    "            sentiment_results.append(document_result)\n",
    "        else:\n",
    "            print(f\"Error for Article {idx}: {response.status_code} - {response.text}\")\n",
    "            continue\n",
    "    \n",
    "    # Save the sentiment results to a CSV file\n",
    "    csv_file = \"sentiment_results.csv\"\n",
    "    csv_headers = [\"Article Number\", \"Article Title\", \"Sentiment Type\", \"Sentiment Score\", \"Sentiment Magnitude\"]\n",
    "    \n",
    "    with open(csv_file, mode='w', newline='') as file:\n",
    "        writer = csv.DictWriter(file, fieldnames=csv_headers)\n",
    "        writer.writeheader()\n",
    "        writer.writerows(sentiment_results)\n",
    "    \n",
    "    print(f\"Sentiment results saved to {csv_file}\")\n",
    "\n",
    "if __name__ == \"__main__\":\n",
    "    # Read articles and their text content from a CSV file\n",
    "    articles = []\n",
    "    with open('articles.csv', mode='r', newline='') as csvfile:\n",
    "        reader = csv.DictReader(csvfile)\n",
    "        for row in reader:\n",
    "            articles.append({\"Article Title\": row['Article Title'], \"Text Content\": row['Text Content']})\n",
    "    \n",
    "    analyze_sentiment(articles)"
   ]
  },
  {
   "cell_type": "code",
   "execution_count": null,
   "metadata": {},
   "outputs": [],
   "source": []
  },
  {
   "cell_type": "markdown",
   "metadata": {},
   "source": []
  }
 ],
 "metadata": {
  "kernelspec": {
   "display_name": "Python 3",
   "language": "python",
   "name": "python3"
  },
  "language_info": {
   "codemirror_mode": {
    "name": "ipython",
    "version": 3
   },
   "file_extension": ".py",
   "mimetype": "text/x-python",
   "name": "python",
   "nbconvert_exporter": "python",
   "pygments_lexer": "ipython3",
   "version": "3.11.6"
  }
 },
 "nbformat": 4,
 "nbformat_minor": 2
}
