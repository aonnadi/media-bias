{
 "cells": [
  {
   "cell_type": "code",
   "execution_count": 3,
   "metadata": {},
   "outputs": [
    {
     "name": "stdout",
     "output_type": "stream",
     "text": [
      "retrieves all 50 links\n",
      "50\n"
     ]
    }
   ],
   "source": [
    "import csv\n",
    "import re\n",
    "\n",
    "# Path to your CSV file\n",
    "csv_file_path = '../datasets/labeling-responses.csv'\n",
    "\n",
    "# Regular expression pattern for extracting Google Drive links\n",
    "drive_link_pattern = r'https://drive\\.google\\.com/[^ ]+'\n",
    "\n",
    "# List to hold extracted Google Drive links\n",
    "drive_links = []\n",
    "\n",
    "# Read the CSV file and extract Google Drive links\n",
    "with open(csv_file_path, mode='r', encoding='utf-8') as file:\n",
    "    reader = csv.reader(file)\n",
    "    for row in reader:\n",
    "        for cell in row:\n",
    "            links = re.findall(drive_link_pattern, cell)\n",
    "            drive_links.extend(links)\n",
    "\n",
    "# Print the extracted Google Drive links (for demonstration)\n",
    "# for link in drive_links[:5]:  # Print only the first 5 links for brevity\n",
    "#     print(link)\n",
    "print(\"retrieves all 50 links\")\n",
    "print(len(drive_links))"
   ]
  },
  {
   "cell_type": "code",
   "execution_count": null,
   "metadata": {},
   "outputs": [],
   "source": []
  }
 ],
 "metadata": {
  "kernelspec": {
   "display_name": "Python 3",
   "language": "python",
   "name": "python3"
  },
  "language_info": {
   "codemirror_mode": {
    "name": "ipython",
    "version": 3
   },
   "file_extension": ".py",
   "mimetype": "text/x-python",
   "name": "python",
   "nbconvert_exporter": "python",
   "pygments_lexer": "ipython3",
   "version": "3.11.6"
  }
 },
 "nbformat": 4,
 "nbformat_minor": 2
}
