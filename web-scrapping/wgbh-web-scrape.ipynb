{
 "cells": [
  {
   "cell_type": "markdown",
   "metadata": {},
   "source": [
    "***********************\n",
    "\n",
    "\n",
    "\n",
    "THIS CREATES THE CSV WITHOUT THE RACE LABEL\n",
    "**************************"
   ]
  },
  {
   "cell_type": "code",
   "execution_count": 2,
   "metadata": {},
   "outputs": [],
   "source": [
    "from bs4 import BeautifulSoup\n",
    "import requests\n",
    "import pandas as pd"
   ]
  },
  {
   "cell_type": "code",
   "execution_count": 4,
   "metadata": {},
   "outputs": [],
   "source": [
    "df = pd.read_csv('labeling-responses.csv')\n",
    "\n",
    "# print(df.head())"
   ]
  },
  {
   "cell_type": "code",
   "execution_count": 5,
   "metadata": {},
   "outputs": [
    {
     "name": "stdout",
     "output_type": "stream",
     "text": [
      "['https://www.wgbh.org/news/national/2023-03-18/why-car-prices-are-still-so-high-and-why-they-are-unlikely-to-fall-anytime-soon', 'https://www.wgbh.org/news/politics/2023-03-08/boston-city-council-approves-wus-rent-control-and-city-planning-proposals', 'https://www.wgbh.org/news/local/2023-06-06/we-have-a-crisis-leaders-look-to-address-root-of-gun-violence-in-boston', 'https://www.wgbh.org/news/commentary/2023-04-03/it-should-be-so-much-easier-to-cancel-unwanted-subscriptions', 'https://www.wgbh.org/news/local/2023-03-17/basic-black-how-will-bostons-task-force-on-reparations-confront-generational-trauma-caused-by-enslavement', 'https://www.wgbh.org/news/national-news/2023/04/28/airbnb-let-its-workers-live-and-work-anywhere-spoiler-theyre-loving-it', 'https://www.wgbh.org/news/local/2023-07-19/paul-revere-never-owned-slaves-but-he-still-benefited-from-the-slave-trade', 'https://www.wgbh.org/news/local/2023-03-24/10-year-old-tanoshi-inomata-is-spelling-his-way-from-boston-to-d-c', 'https://www.wgbh.org/news/politics/2023/03/01/bostons-police-oversight-office-has-yet-to-uphold-a-single-civilian-complaint', 'https://www.wgbh.org/news/national/2023-04-26/the-sky-isnt-classified-harvard-astronomer-on-studying-the-extraterrestrial', 'https://www.wgbh.org/news/national/2023-04-11/police-came-to-pull-a-jeep-out-of-a-lake-they-found-a-woman-inside-alive', 'https://www.wgbh.org/news/national/2023-07-12/so-your-tween-wants-a-smartphone-read-this-first', 'https://www.wgbh.org/news/local/2023-06-02/raw-dog-explores-the-flavors-and-controversies-of-americas-favorite-tubed-meat', 'https://www.wgbh.org/news/local-news/2023/03/10/pop-culture-roundtable-chris-rock-slaps-back', 'https://www.wgbh.org/news/politics/2023-08-03/potential-2024-ballot-questions-rent-control-voting-rights-psychedelics-and-more', 'https://www.wgbh.org/news/local/2023-03-24/10-year-old-tanoshi-inomata-is-spelling-his-way-from-boston-to-d-c', 'https://www.wgbh.org/news/local/2023-04-14/debate-teaches-bostons-black-youth-skills-that-last-a-lifetime', 'https://www.wgbh.org/news/local/2023-05-01/a-lot-of-bang-for-your-buck-with-jail-based-arts-programs', 'https://www.wgbh.org/news/local/2023-03-14/why-do-we-have-jury-duty-and-how-reliable-are-juries-really', 'https://www.wgbh.org/news/national/2023-05-23/want-to-understand-your-adolescent-get-to-know-their-brain', 'https://www.wgbh.org/news/local/2023-05-18/boston-unveils-logo-for-2026-world-cup', 'https://www.wgbh.org/news/politics/2023-04-20/advocates-call-for-action-on-bills-to-prevent-child-sexual-abuse-in-schools', 'https://www.wgbh.org/news/national/2023-05-04/mcdonalds-franchises-face-more-than-200-000-in-fines-for-child-labor-law-violations', 'https://www.wgbh.org/news/local/2023-05-02/we-dont-know-where-to-go-homeless-encampment-cleared-as-city-cracks-down-on-tents-at-mass-and-cass', 'https://www.wgbh.org/news/local/2023-06-20/massachusetts-needs-more-housing-how-much-should-be-affordable-vs-high-end', 'https://www.wgbh.org/news/local/2023-06-20/mayor-wu-says-obryant-school-move-was-significantly-vetted', 'https://www.wgbh.org/news/local/2023-04-07/brookline-and-somerville-team-up-to-find-ways-to-buy-more-from-women-and-people-of-color', 'https://www.wgbh.org/news/local/2023-04-20/feeling-thrifty-how-the-secondhand-market-is-changing-the-fashion-game', 'https://www.wgbh.org/news/commentary/2023/04/17/for-survivors-of-the-boston-marathon-bombing-every-day-is-an-anniversary', 'https://www.wgbh.org/news/local-news/2023/05/15/local-jewish-advocates-are-fighting-antisemitism-with-a-five-step-plan', 'https://www.wgbh.org/news/local/2023-02-22/new-centers-offer-care-for-mental-health-and-addiction-but-leave-out-most-privately-insured-patients', 'https://www.wgbh.org/news/national-news/2023/02/28/a-surprise-billing-law-loophole-her-pregnancy-led-to-a-six-figure-hospital-bill', 'https://www.wgbh.org/news/local/2023-03-02/the-bay-state-banner-bostons-oldest-black-owned-newspaper-changes-hands-after-six-decades', 'https://www.wgbh.org/news/national/2023-07-17/thousands-of-authors-urge-ai-companies-to-stop-using-work-without-permission', 'https://www.wgbh.org/news/local/2023-03-14/riders-on-fare-free-mbta-buses-report-saving-money-easier-commutes', 'https://www.wgbh.org/news/local/2023-04-21/love-that-dirty-water-is-the-charles-river-actually-that-dirty', 'https://www.wgbh.org/news/politics/2023/04/28/could-beacon-hill-bring-massachusetts-a-four-day-work-week', 'https://www.wgbh.org/news/commentary/2023-03-20/why-is-being-childfree-by-choice-suddenly-so-controversial', 'https://www.wgbh.org/news/local/2023-04-20/cannabis-control-commission-chair-shannon-obrien-on-making-space-in-a-saturated-market', 'https://www.wgbh.org/news/local-news/2023/03/16/women-of-color-are-in-high-profile-positions-are-they-getting-paid-the-same', 'https://www.wgbh.org/news/national/2023-04-25/what-lessons-have-we-learned-from-the-covid-pandemic', 'https://www.wgbh.org/news/commentary/2023-02-27/from-patrick-mahomes-to-lebron-james-lets-celebrate-modern-makers-of-black-history', 'https://www.wgbh.org/news/local/2023-07-25/umass-lowell-baseball-coach-resigns-after-racism-investigation', 'https://www.wgbh.org/news/local-news/2023/03/17/boston-has-zero-tolerance-for-hate-groups-at-st-patricks-day-parade-city-council-president-says', 'https://www.wgbh.org/news/national/2023-05-02/voter-turnout-for-the-2022-elections-was-the-2nd-highest-for-midterms-since-2000', 'https://www.wgbh.org/news/education-news/2023-03-09/the-average-boston-university-lgbtq-student-feels-unwelcome-says-new-report', 'https://www.wgbh.org/news/local/2023-05-11/the-covid-emergency-is-expiring-in-massachusetts-what-happens-now', 'https://www.wgbh.org/news/local-news/2023/04/19/black-running-groups-call-for-change-after-police-were-called-to-their-boston-marathon-cheer-section', 'https://www.wgbh.org/news/national/2023-05-02/voter-turnout-for-the-2022-elections-was-the-2nd-highest-for-midterms-since-2000', 'https://www.wgbh.org/news/education-news/2023-03-08/community-colleges-in-massachusetts-to-drop-covid-19-vaccine-mandate-after-spring-semester', 'https://www.wgbh.org/news/local/2023-03-08/black-and-latino-legislative-caucus-condemns-deeply-concerning-allegations-of-racism-at-convention-center-authority', 'https://www.wgbh.org/news/local/2023-03-22/boston-youtuber-highlights-black-history-gems-around-the-state', 'https://www.wgbh.org/news/local-news/2023/03/10/carrie-moore-looks-to-guide-harvard-womens-basketball-to-new-destinations', 'https://www.wgbh.org/news/local-news/2023/06/13/a-lowell-college-baseball-player-was-kicked-off-the-team-he-believes-racism-is-at-the-root-of-it', 'https://www.wgbh.org/news/local/2023-05-30/celtics-fall-apart-in-bid-for-nba-history-and-now-enter-offseason-of-questions', 'https://www.wgbh.org/news/national/2023-04-28/a-bus-driver-in-michigan-fainted-at-the-wheel-then-a-7th-grader-took-control', 'https://www.wgbh.org/news/international-news/2023-06-11/4-children-who-survived-for-40-days-in-the-colombian-jungle-recover-as-details-emerge', 'https://www.wgbh.org/news/politics/2023-02-27/gov-healey-unveils-742-million-tax-relief-plan', 'https://www.wgbh.org/news/local-news/2023/03/20/photographer-aida-muluneh-created-public-art-for-bostons-bus-stops', 'https://www.wgbh.org/news/local/2023-05-15/new-data-homelessness-in-western-massachusetts-reaches-five-year-high', 'https://www.wgbh.org/news/national/2023-07-11/a-jury-rules-a-handwritten-will-found-under-aretha-franklins-couch-cushion-is-valid', 'https://www.wgbh.org/news/local/2023-03-09/with-new-alliance-eastern-bank-is-dropping-barriers-to-credit-for-minority-and-underserved-businesses', 'https://www.wgbh.org/news/politics/2023-03-02/healey-sees-her-tax-plan-budget-as-tools-to-help-massachusetts-compete', 'https://www.wgbh.org/news/local/2023-03-14/winter-storm-shuts-schools-knocks-out-power-across-northeast', 'https://www.wgbh.org/news/international-news/2023-07-20/this-no-frills-college-helps-students-get-a-degree-quickly-simply-and-affordably', 'https://www.wgbh.org/news/2023-08-10/in-california-wildfires-are-prevented-by-crews-of-unlikely-firefighters-goats', 'https://www.wgbh.org/news/local/2023-03-29/pangallo-harrington-move-ahead-in-salems-special-mayoral-preliminary', 'https://www.wgbh.org/news/local/2023-03-20/everything-you-need-to-know-about-the-2023-boston-marathon', 'https://www.wgbh.org/news/local/2023-05-29/ludlows-school-library-proposal-either-a-highway-to-censorship-or-a-barrier-to-pornography', 'https://www.wgbh.org/news/local/2023-05-04/minority-owned-firms-see-big-jump-in-massachusetts-state-contracts', 'https://www.wgbh.org/news/commentary/2023-02-27/from-patrick-mahomes-to-lebron-james-lets-celebrate-modern-makers-of-black-history', 'https://www.wgbh.org/news/national/2023-03-22/an-x-ray-tech-made-laura-feel-beautiful-as-she-struggled-with-hair-loss-during-chemo', 'https://www.wgbh.org/news/politics/2023-03-16/faith-leaders-call-for-gov-healey-lawmakers-to-tackle-housing-crisis', 'https://www.wgbh.org/news/national/2023-04-30/more-people-are-getting-away-with-murder-unsolved-killings-reach-a-record-high', 'https://www.wgbh.org/news/national/2023-04-07/basic-black-the-future-of-diversity-equity-and-inclusion', 'https://www.wgbh.org/news/local/2023-03-02/the-bay-state-banner-bostons-oldest-black-owned-newspaper-changes-hands-after-six-decades', 'https://www.wgbh.org/news/politics/2023-07-25/bill-would-make-kids-without-legal-immigration-status-eligible-for-masshealth', 'https://www.wgbh.org/news/politics/2023-03-27/elizabeth-warren-running-for-third-senate-term', 'https://www.wgbh.org/news/local/2023-05-16/dread-clearing-out-that-poison-ivy-time-to-bring-in-the-goats', 'https://www.wgbh.org/news/local-news/2023/03/24/10-year-old-tanoshi-inomata-is-spelling-his-way-from-boston-to-d-c', 'https://www.wgbh.org/news/national/2023-03-23/why-a-horror-film-starring-winnie-the-pooh-has-run-into-trouble-in-hong-kong', 'https://www.wgbh.org/news/local/2023-05-03/why-documentarian-oliver-stone-says-now-is-the-time-for-nuclear-power', 'https://www.wgbh.org/news/politics/2023-04-28/trust-in-the-us-supreme-court-is-dropping-would-adding-more-justices-help', 'https://www.wgbh.org/news/local/2023-06-01/massachusetts-allocates-nearly-2m-to-organizations-helping-immigrants-and-refugees', 'https://www.wgbh.org/news/international-news/2023/05/05/meet-gladys-kalema-zikusoka-ugandas-first-wildlife-vet-and-a-renowned-conservationist', 'https://www.wgbh.org/news/commentary/2023-02-27/from-patrick-mahomes-to-lebron-james-lets-celebrate-modern-makers-of-black-history', 'https://www.wgbh.org/news/education-news/2023-06-14/whats-at-stake-in-the-college-affirmative-action-case-before-the-supreme-court', 'https://www.wgbh.org/news/local/2023-06-14/rmv-prepares-for-over-100-000-drivers-license-applications-from-undocumented-immigrants', 'https://www.wgbh.org/news/local-news/2023/03/20/photographer-aida-muluneh-created-public-art-for-bostons-bus-stops', 'https://www.wgbh.org/news/local/2023-03-07/supporters-claim-racism-led-everett-to-vote-out-popular-superintendent', 'https://www.wgbh.org/news/education-news/2023-04-26/former-harvard-chemistry-professor-sentenced-to-home-confinement-for-china-scheme', 'https://www.wgbh.org/news/international-news/2023/04/05/he-felt-the-slither-of-a-venomous-snake-in-the-cockpit-then-turned-the-plane-around', 'https://www.wgbh.org/news/local/2023-06-14/rmv-prepares-for-over-100-000-drivers-license-applications-from-undocumented-immigrants', 'https://www.wgbh.org/news/local/2023-03-15/mass-facing-shortages-of-home-health-aides-and-doctors-for-people-with-alzheimers', 'https://www.wgbh.org/news/local/2023-05-31/why-more-pride-parades-are-popping-up-in-massachusetts-small-cities', 'https://www.wgbh.org/news/local-news/2023/03/17/cambridge-to-launch-external-review-of-police-department-after-shooting-of-sayed-faisal', 'https://www.wgbh.org/news/national/2023-06-08/a-7-year-old-is-fighting-off-a-rare-life-threatening-genetic-disease-with-his-own-cells', 'https://www.wgbh.org/news/local/2023-04-13/police-departments-across-massachusetts-are-rolling-out-body-cameras-this-year', 'https://www.wgbh.org/news/local/2023-05-22/rick-hoyt-a-boston-marathon-fixture-has-died-at-61', 'https://www.wgbh.org/news/international-news/2023-04-05/he-felt-the-slither-of-a-venomous-snake-in-the-cockpit-then-turned-the-plane-around', 'https://www.wgbh.org/news/national-news/2023/03/30/new-cdc-report-on-autism-shows-children-of-color-being-diagnosed-at-a-higher-rate-than-white-children', 'https://www.wgbh.org/news/local/2023-03-31/50-years-after-the-us-exited-vietnam-a-new-exhibit-sheds-light-on-the-infamous-hanoi-hilton', 'https://www.wgbh.org/news/national/2023-03-18/why-car-prices-are-still-so-high-and-why-they-are-unlikely-to-fall-anytime-soon', 'https://www.wgbh.org/news/local/2023-06-06/improved-communications-at-the-center-of-the-mbtas-new-safety-plan', 'https://www.wgbh.org/news/local/2023-03-20/everything-you-need-to-know-about-the-2023-boston-marathon', 'https://www.wgbh.org/news/local-news/2023/07/10/full-scale-humanitarian-crisis-chelsea-receives-a-growing-number-of-migrant-families', 'https://www.wgbh.org/news/national/2023-05-09/maternity-homes-provide-support-in-a-post-roe-world-but-not-without-conditions', 'https://www.wgbh.org/news/national/2023-04-29/whats-white-fluffy-and-has-10-000-legs', 'https://www.wgbh.org/news/local/2023-04-14/scared-and-disturbed-unease-deepens-around-widespread-access-to-abortion-medication-in-mass', 'https://www.wgbh.org/news/local-news/2023/07/20/resident-physicians-at-boston-medical-center-rally-for-higher-wages', 'https://www.wgbh.org/news/local/2023-05-03/he-pointed-to-me-how-an-impromptu-solo-launched-kamasi-washingtons-career', 'https://www.wgbh.org/news/local/2023-06-13/boston-medflight-patients-meet-the-people-who-saved-them', 'https://www.wgbh.org/news/politics/2023-03-17/when-it-comes-to-kamala-harris-whats-driving-the-negative-narrative', 'https://www.wgbh.org/news/national/2023-03-17/they-performed-with-bono-and-the-edge-after-their-parents-told-them-who-they-are', 'https://www.wgbh.org/news/national/2023-03-13/us-government-moves-to-stop-potential-banking-crisis', 'https://www.wgbh.org/news/politics/2023-03-17/when-it-comes-to-kamala-harris-whats-driving-the-negative-narrative', 'https://www.wgbh.org/news/local/2023-03-01/heartbroken-by-the-tragedy-of-war-a-ukrainian-opera-singer-performs-in-belmont', 'https://www.wgbh.org/news/national/2023-07-10/one-person-has-died-as-storms-leave-widespread-flooding-in-new-york-and-vermont', 'https://www.wgbh.org/news/local/2023-03-28/can-people-injured-while-skiing-sue-the-ski-resorts', 'https://www.wgbh.org/news/national/2023-04-20/facebook-users-can-apply-for-their-portion-of-a-725-million-lawsuit-settlement', 'https://www.wgbh.org/news/local/2023-06-06/bostons-own-guster-to-perform-with-keith-lockhart-and-boston-pops', 'https://www.wgbh.org/news/politics/2023-03-28/boston-redistricting-challenge-kicks-off-in-federal-court', 'https://www.wgbh.org/news/local/2023-03-16/close-call-at-logan-not-due-to-a-lack-of-technology-experts-say', 'https://www.wgbh.org/news/local/2023-07-20/reform-alliances-fight-against-the-trapdoor-of-probation-and-parole', 'https://www.wgbh.org/news/politics/2023-07-31/vp-kamala-harris-talks-civil-rights-at-2023-naacp-national-convention-in-boston', 'https://www.wgbh.org/news/local/2023-03-09/a-church-in-north-thetford-is-getting-new-life-as-a-community-center-for-people-of-color', 'https://www.wgbh.org/news/local/2023-03-14/riders-on-fare-free-mbta-buses-report-saving-money-easier-commutes', 'https://www.wgbh.org/news/local/2023-07-31/laws-banning-critical-race-theory-in-schools-will-persist-one-of-its-originators-says-its-time-to-address-the-deeper-issue', 'https://www.wgbh.org/news/local/2023-02-23/funding-dries-up-for-homeless-clinic-at-mass-and-cass-roundhouse-hotel', 'https://www.wgbh.org/news/national/2023-05-09/jury-finds-trump-liable-for-sexual-abuse-awards-accuser-5m', 'https://www.wgbh.org/news/national/2023-03-31/u-s-capitol-rioter-the-qanon-shaman-is-released-early-from-federal-prison', 'https://www.wgbh.org/news/local/2023-02-24/independent-investigation-begins-in-fatal-cambridge-police-shooting', 'https://www.wgbh.org/news/politics/2023-03-27/analysis-as-warren-seeks-a-third-term-her-position-is-stronger-than-it-seems', 'https://www.wgbh.org/news/local/2023-04-24/over-100-000-mass-residents-could-see-thousands-taken-out-of-their-tax-refunds', 'https://www.wgbh.org/news/local/2023-06-20/life-after-prison-mass-leaves-thousands-of-prisoners-awaiting-education-that-would-help-their-re-entry', 'https://www.wgbh.org/news/local/2023-06-12/john-earlys-comedy-is-what-we-need-now-more-than-ever', 'https://www.wgbh.org/news/national/2023-05-18/seniors-got-covid-tests-they-didnt-order-in-medicare-scam-could-more-fraud-follow', 'https://www.wgbh.org/news/local-news/2023/05/02/new-safety-regulations-at-mass-hospitals-will-make-it-easy-for-patients-to-find-the-er', 'https://www.wgbh.org/news/local/2023-06-08/ag-campbell-pushes-for-wariness-of-child-labor-exploitation-especially-among-immigrants', 'https://www.wgbh.org/news/local/2023-05-29/shootings-at-revere-beach-prompt-search-for-answers-beyond-just-more-police', 'https://www.wgbh.org/news/national/2023-03-01/the-woman-who-introduced-mlk-jr-and-coretta-scott-lies-in-an-unmarked-grave-in-boston', 'https://www.wgbh.org/news/local/2023-03-15/a-chaotic-mess-at-any-turn-why-worcester-city-council-meetings-can-be-a-spectacle', 'https://www.wgbh.org/news/local/2023-05-15/local-jewish-advocates-are-fighting-antisemitism-with-a-five-step-plan', 'https://www.wgbh.org/news/national/2023-04-28/airbnb-let-its-workers-live-and-work-anywhere-spoiler-theyre-loving-it', 'https://www.wgbh.org/news/national/2023-04-28/airbnb-let-its-workers-live-and-work-anywhere-spoiler-theyre-loving-it', 'https://www.wgbh.org/news/education-news/2023-03-08/community-colleges-in-massachusetts-to-drop-covid-19-vaccine-mandate-after-spring-semester', 'https://www.wgbh.org/news/local/2023-03-20/spring-has-arrived-heres-when-to-plant-food-and-flowers-in-the-garden', 'https://www.wgbh.org/news/politics/2023-03-02/healey-sees-her-tax-plan-budget-as-tools-to-help-massachusetts-compete', 'https://www.wgbh.org/news/national/2023-04-26/the-sky-isnt-classified-harvard-astronomer-on-studying-the-extraterrestrial', 'https://www.wgbh.org/news/national/2023-05-04/biden-administration-warns-consumers-to-avoid-medical-credit-cards', 'https://www.wgbh.org/news/local-news/2023/03/10/carrie-moore-looks-to-guide-harvard-womens-basketball-to-new-destinations', 'https://www.wgbh.org/news/national-news/2023/05/15/as-massachusetts-weighs-physician-assisted-death-a-california-reporter-explains-her-states-rollout', 'https://www.wgbh.org/news/local/2023-03-14/boston-public-radio-full-show-march-14-2023', 'https://www.wgbh.org/news/national/2023-04-07/justice-thomas-explains-why-he-didnt-report-trips-paid-for-by-billionaire', 'https://www.wgbh.org/news/national/2023-04-28/airbnb-let-its-workers-live-and-work-anywhere-spoiler-theyre-loving-it', 'https://www.wgbh.org/news/local-news/2023/05/30/celtics-fall-apart-in-bid-for-nba-history-and-now-enter-offseason-of-questions', 'https://www.wgbh.org/news/national-news/2023/04/20/facebook-users-can-apply-for-their-portion-of-a-725-million-lawsuit-settlement', 'https://www.wgbh.org/news/local/2023-05-15/new-data-homelessness-in-western-massachusetts-reaches-five-year-high', 'https://www.wgbh.org/news/local/2023-07-20/program-to-recruit-more-nurses-of-color-in-boston-gets-20m-boost', 'https://www.wgbh.org/news/local/2023-05-30/celtics-fall-apart-in-bid-for-nba-history-and-now-enter-offseason-of-questions', 'https://www.wgbh.org/news/local-news/2023/03/28/can-people-injured-while-skiing-sue-the-ski-resorts', 'https://www.wgbh.org/news/national-news/2023/03/30/new-cdc-report-on-autism-shows-children-of-color-being-diagnosed-at-a-higher-rate-than-white-children', 'https://www.wgbh.org/news/national-news/2023/07/17/thousands-of-authors-urge-ai-companies-to-stop-using-work-without-permission', 'https://www.wgbh.org/news/local-news/2023/03/20/spring-has-arrived-heres-when-to-plant-food-and-flowers-in-the-garden', 'https://www.wgbh.org/news/local-news/2023/07/14/as-the-climate-changes-obsolete-dams-put-mass-at-risk-for-flooding-similar-to-vermont', 'https://www.wgbh.org/news/local-news/2023/03/02/this-boston-doctor-has-cared-for-the-homeless-for-40-years-heres-what-hes-learned', 'https://www.wgbh.org/news/national/2023-06-19/huntingtons-spreads-like-fire-in-the-brain-scientists-say-theyve-found-the-spark', 'https://www.wgbh.org/news/national/2023-05-03/what-you-need-to-know-about-blue-checkmarks-on-twitter', 'https://www.wgbh.org/news/politics/2023-03-22/more-women-are-getting-elected-but-stereotypes-persist', 'https://www.wgbh.org/news/local-news/2023/05/15/local-jewish-advocates-are-fighting-antisemitism-with-a-five-step-plan', 'https://www.wgbh.org/news/local/2023-08-03/epa-report-card-gives-mixed-grades-for-charles-mystic-and-neponset-watersheds', 'https://www.wgbh.org/news/local/2023-04-25/gbhs-salud-is-helping-latinos-navigate-the-health-care-system-in-new-season', 'https://www.wgbh.org/news/national/2023-03-06/a-roadblock-to-life-saving-addiction-treatment-is-gone-now-what', 'https://www.wgbh.org/news/politics/2023-02-28/boston-rent-control-opposition-deepens-with-landlords-lawsuit', 'https://www.wgbh.org/news/politics/2023-07-14/how-can-beacon-hill-make-massachusetts-housing-more-affordable']\n",
      "175\n"
     ]
    }
   ],
   "source": [
    "urls = df['Paste the link of the article read.'].tolist()\n",
    "\n",
    "wgbh_urls = [url for url in urls if 'wgbh.org' in url]\n",
    "\n",
    "print(wgbh_urls)\n",
    "print(len(wgbh_urls))"
   ]
  },
  {
   "cell_type": "code",
   "execution_count": 4,
   "metadata": {},
   "outputs": [
    {
     "name": "stdout",
     "output_type": "stream",
     "text": [
      "https://www.wgbh.org/news/national/2023-03-18/why-car-prices-are-still-so-high-and-why-they-are-unlikely-to-fall-anytime-soon\n"
     ]
    }
   ],
   "source": [
    "url = urls[1]\n",
    "print(url)\n",
    "page = requests.get(url)\n",
    "\n",
    "soup = BeautifulSoup(page.text, 'html')"
   ]
  },
  {
   "cell_type": "code",
   "execution_count": 27,
   "metadata": {},
   "outputs": [
    {
     "name": "stdout",
     "output_type": "stream",
     "text": [
      "It has been nearly three years since auto plants around the world started to shut down because of the pandemic.Yet between the pandemic, an acute shortage of semiconductors and other supply chain snarls, vehicle production has never really returned to normal.And prices? Hoo boy.Both new and used prices have stopped skyrocketing. In fact, both dipped slightly in February.But the average new-vehicle transaction price is still $48,763, according to Kelley Blue Book. Before the pandemic, the average new vehicle sold for $37,876.At an auto show this year, Noah and India Grabisch of Laurel, Md., were looking at new SUVs, which they liked. But an $86,000 price tag for a Chevrolet Suburban?Well ...\"It looks nice,\" India Grabisch said. \"But ... no.\"The used-car market doesn't provide much relief either. Retail used-vehicle prices now average $26,510.And after falling last year, closely watched wholesale prices, a key indicator of where markets are headed, are actually rising again.Why are prices remaining stubbornly high? Here are a few reasons.Supply chain woes are still reverberating The semiconductor shortage has gotten much better since 2021, but it hasn't gone away entirely, and other supply chain snarls continue to periodically disrupt output.Because of these supply chain problems, the global automotive industry has produced millions fewer vehicles than it would have otherwise.The supply of new vehicles is starting to improve, but those millions of \"missing\" vehicles are still gone. Lower supply, higher prices: It's basic economics.Which cars are being made? Not the cheap onesWhen automakers can't make as many vehicles as they would like, they prioritize their most profitable cars. Cheap ones get the boot.Consider what happened at Nissan, which continued to struggle with supply chain challenges throughout 2022. In response, it cut production of one of its cheapest cars, the Nissan Versa, by 78%. Nissan also reduced sales of two other cheap models, the Sentra and the Kicks.Bigger, slightly more expensive vehicles, like the Altima and the Pathfinder? Nissan boosted production of those.It wasn't because of a lack of buyers on the cheap end, says Judy Wheeler, Nissan U.S.'s vice president for sales and regional operations.\"In the last month, we have seen search increase for the Nissan Versa, Sentra and Kicks, indicating a growing interest in this segment among consumers,\" she told NPR via email.She said Nissan intends to build more of those entry-level vehicles when the supply chain permits.It's not just Nissan. Across the board, automakers have been focusing on bigger, more luxurious, more expensive vehicles. And the ones they make also tend to be packed with extra features that bump up prices even more.Fewer cars — and higher prices — are very profitableThe shift in the market has been remarkable, and automakers are in no hurry to reverse course.Consider just how big the change has been. Cox Automotive crunched the numbers and found that from December 2017 to December 2022, sales of new cars under $25,000 — affordable, by new-car standards — dropped 78% and went from almost 13% of total new-vehicle sales to just under 4%.Sales of new cars over $60,000, meanwhile, skyrocketed. Those vehicles, costing more than the annual income of the average American, went from 8% of the auto market to 25% of sales.Because those $60,000 vehicles are significantly more profitable than the $25,000 ones, this shift is very, very lucrative for car companies. And they're especially focused on fat margins, instead of big volumes, because they're investing heavily in new electric vehicles (EVs).\"The pricing environment that we're in right now has been very good, very robust,\" General Motors Chief Financial Officer Paul Jacobson told investors on an earnings call last year. \"And ... running the business for cash flow is critical to help fund our journey in the EV transformation.\"Yesterday's new cars are today's used cars ... Three years ago, when production lines started to slow, it affected both the new- and used-car markets immediately. Fewer new cars sent new prices up. That, in turn, pushed many shoppers into the used-car market. And more shoppers in the used market pushed prices up there, too.But the new-car woes also had a delayed effect on the used-car market — because new cars, obviously, become used cars after some time.So all those top-of-the line cars that were made in 2021 are now some very nice two-year-old cars, which means even in the used market, the high end of the market is booming.Meanwhile, because automakers cut production of cheap, no-frill sedans, people looking for cheaper late-model used cars are now out of luck.\"We are firmly in the teeth of an extremely tight used-vehicle market, and that is directly a function of what has happened over the past three years,\" says Jonathan Smoke, chief economist at Cox Automotive.Lonnie Smith, president of the nonprofit On the Road Lending, works to help working families get affordable loans for decent used cars, preferably those still under warranty.\"Typically we're looking for vehicles that are two to four years old, less than 60,000 miles — a modest type of vehicle,\" he says.Those have gotten so hard to find lately that On the Road got licensed to be an auto dealer so it could buy vehicles at auction — the few cars that fit the bill on dealer lots were getting snapped up immediately.And the average loan for those cars, which was $13,000 ten years ago, has now risen to $24,000.Because, well, that's just the price of a modest used car in America these days.But there is some hope: EV prices could come downAs the chip shortage eases, automakers say they want to make more vehicles for people who can't afford top-of-the-line full-size SUVs. But don't expect a tsunami of $15,000 cars.\"We're not really expecting to see, you know, this resurgence of inexpensive gasoline-powered vehicles,\" says Ed Kim, chief analyst at AutoPacific. \"Really where the industry is going is putting in a lot of effort to get more affordable plug-in vehicles out in the marketplace.\"In fact, led by Tesla's aggressive price cuts, electric vehicle prices are dropping. According to the latest Kelley Blue Book data, they're down 7.5% year over year, and that's before federal tax credits (including for used vehicles).But there are daunting challenges — especially around charging infrastructure — before many car buyers will purchase an EV. And prices have a long way to fall before they're truly affordable. Investors were recently disappointed when Tesla, which has long promised a cheaper vehicle, did not unveil one.So cheaper vehicles are on the way. But many of them will be powered by batteries, and they'll take a long time to get here. [Copyright 2023 NPR]\n",
      "Why car prices are still so high — and why they are unlikely to fall anytime soon\n"
     ]
    }
   ],
   "source": [
    "# cleaned up the article body text\n",
    "\n",
    "article_text = soup.find(class_ = 'articleBody rich-text').text.strip()\n",
    "\n",
    "article_title = soup.find(class_ = 'heading heading-1').text.strip()\n",
    "\n",
    "print(article_text)\n",
    "print(article_title)"
   ]
  },
  {
   "cell_type": "code",
   "execution_count": 9,
   "metadata": {},
   "outputs": [
    {
     "name": "stdout",
     "output_type": "stream",
     "text": [
      "Why car prices are still so high — and why they are unlikely to fall anytime soon https://www.wgbh.org/news/national/2023-03-18/why-car-prices-are-still-so-high-and-why-they-are-unlikely-to-fall-anytime-soon\n",
      "Boston City Council approves Wu's rent control and city planning proposals https://www.wgbh.org/news/politics/2023-03-08/boston-city-council-approves-wus-rent-control-and-city-planning-proposals\n",
      "‘We have a crisis’: Leaders look to address root of gun violence in Boston https://www.wgbh.org/news/local/2023-06-06/we-have-a-crisis-leaders-look-to-address-root-of-gun-violence-in-boston\n",
      "It should be so much easier to cancel unwanted subscriptions https://www.wgbh.org/news/commentary/2023-04-03/it-should-be-so-much-easier-to-cancel-unwanted-subscriptions\n",
      "Basic Black: How will Boston’s task force on reparations confront generational trauma caused by enslavement? https://www.wgbh.org/news/local/2023-03-17/basic-black-how-will-bostons-task-force-on-reparations-confront-generational-trauma-caused-by-enslavement\n"
     ]
    }
   ],
   "source": [
    "import time\n",
    "\n",
    "\n",
    "def scrape_wgbh_article(url):\n",
    "    response = requests.get(url)\n",
    "\n",
    "    if response.status_code == 200:\n",
    "        soup = BeautifulSoup(response.text, 'html.parser')\n",
    "\n",
    "        article_title = soup.find(class_ = 'heading heading-1')\n",
    "        if article_title:\n",
    "            article_title = article_title.text.strip()\n",
    "        else:\n",
    "            article_title = \"Title not found\"\n",
    "\n",
    "        \n",
    "        article_body = soup.find(class_ = 'articleBody rich-text')\n",
    "        if article_body:\n",
    "            enhancements = article_body.find_all(class_='Enhancement')\n",
    "            for enhancement in enhancements:\n",
    "                enhancement.decompose()\n",
    "\n",
    "            article_text = article_body.get_text(separator=\"\", strip=True)\n",
    "        else:\n",
    "            article_text = \"Article text not found\"\n",
    "\n",
    "\n",
    "        return {\n",
    "            'url': url,\n",
    "            'title': article_title,\n",
    "            'text': article_text\n",
    "        }\n",
    "    \n",
    "    else:\n",
    "        print(f\"Failed to retrieve content from {url}\")\n",
    "        return None\n",
    "    \n",
    "scraped_articles = []\n",
    "\n",
    "for url in wgbh_urls:\n",
    "    article_info = scrape_wgbh_article(url)\n",
    "    if article_info:  # Check if the article info was successfully retrieved\n",
    "        scraped_articles.append(article_info)\n",
    "    \n",
    "    time.sleep(1)  # Pause for 1 second between requests to be respectful to the server\n",
    "\n",
    "# Example output\n",
    "for article in scraped_articles[:5]:  # Print first 5 scraped articles to check\n",
    "    print(article['title'], article['url'])\n",
    "\n",
    "\n",
    "        \n",
    "        "
   ]
  },
  {
   "cell_type": "code",
   "execution_count": 10,
   "metadata": {},
   "outputs": [
    {
     "name": "stdout",
     "output_type": "stream",
     "text": [
      "Data has been written to scraped_wgbh_articles.csv\n"
     ]
    }
   ],
   "source": [
    "import csv \n",
    "\n",
    "csv_file_name = 'scraped_wgbh_articles.csv'\n",
    "\n",
    "headers = ['title', 'text', 'url']\n",
    "\n",
    "with open(csv_file_name, 'w', newline='', encoding='utf-8') as csvfile:\n",
    "    writer = csv.DictWriter(csvfile, fieldnames=headers)\n",
    "    \n",
    "    # Write the header to the CSV file\n",
    "    writer.writeheader()\n",
    "    \n",
    "    # Write the scraped article data to the CSV file\n",
    "    for article in scraped_articles:\n",
    "        writer.writerow(article)\n",
    "\n",
    "print(f\"Data has been written to {csv_file_name}\")"
   ]
  }
 ],
 "metadata": {
  "kernelspec": {
   "display_name": "Python 3",
   "language": "python",
   "name": "python3"
  },
  "language_info": {
   "codemirror_mode": {
    "name": "ipython",
    "version": 3
   },
   "file_extension": ".py",
   "mimetype": "text/x-python",
   "name": "python",
   "nbconvert_exporter": "python",
   "pygments_lexer": "ipython3",
   "version": "3.11.6"
  }
 },
 "nbformat": 4,
 "nbformat_minor": 2
}
