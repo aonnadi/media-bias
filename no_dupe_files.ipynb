{
 "cells": [
  {
   "cell_type": "code",
   "execution_count": 4,
   "metadata": {},
   "outputs": [],
   "source": [
    "import pandas as pd\n",
    "\n",
    "# Load the CSV files into DataFrames\n",
    "df1 = pd.read_csv(\"tbg_selected_articles.csv\")\n",
    "df2 = pd.read_csv(\"tbh_random_8_percent.csv\")\n",
    "\n",
    "# Combine the DataFrames\n",
    "combined_df = pd.concat([df1, df2])\n",
    "\n",
    "# Remove duplicates\n",
    "combined_df = combined_df.drop_duplicates()\n",
    "\n",
    "# Write the result to a new CSV file\n",
    "combined_df.to_csv(\"tbg_selected_no_dupes.csv\", index=False)\n"
   ]
  }
 ],
 "metadata": {
  "kernelspec": {
   "display_name": "Python 3",
   "language": "python",
   "name": "python3"
  },
  "language_info": {
   "codemirror_mode": {
    "name": "ipython",
    "version": 3
   },
   "file_extension": ".py",
   "mimetype": "text/x-python",
   "name": "python",
   "nbconvert_exporter": "python",
   "pygments_lexer": "ipython3",
   "version": "3.11.6"
  }
 },
 "nbformat": 4,
 "nbformat_minor": 2
}
